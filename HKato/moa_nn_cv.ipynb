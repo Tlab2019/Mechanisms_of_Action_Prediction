{
 "cells": [
  {
   "cell_type": "code",
   "execution_count": 5,
   "metadata": {},
   "outputs": [],
   "source": [
    "# import sys\n",
    "# sys.path.append('../input/iterative-stratification/iterative-stratification-master')\n",
    "from iterstrat.ml_stratifiers import MultilabelStratifiedKFold\n",
    "\n",
    "import numpy as np\n",
    "import random\n",
    "import pandas as pd\n",
    "import matplotlib.pyplot as plt\n",
    "import os\n",
    "import copy\n",
    "import seaborn as sns\n",
    "\n",
    "from sklearn import preprocessing\n",
    "from sklearn.metrics import log_loss\n",
    "from sklearn.preprocessing import StandardScaler\n",
    "from sklearn.decomposition import PCA\n",
    "\n",
    "import torch\n",
    "import torch.nn as nn\n",
    "import torch.nn.functional as F\n",
    "import torch.optim as optim\n",
    "\n",
    "import warnings\n",
    "warnings.filterwarnings('ignore')"
   ]
  },
  {
   "cell_type": "markdown",
   "metadata": {},
   "source": [
    "## Configuration"
   ]
  },
  {
   "cell_type": "code",
   "execution_count": 13,
   "metadata": {},
   "outputs": [],
   "source": [
    "ROOT = \"..\"\n",
    "INPUT = \"input\"\n",
    "LISH_MOA = \"lish-moa\"\n",
    "NUM_FOLD = 5\n",
    "NUM_OPTUNA_TRIAL = 30\n",
    "N_COMP_GENES = 50\n",
    "N_COMP_CELLS = 15"
   ]
  },
  {
   "cell_type": "code",
   "execution_count": 7,
   "metadata": {},
   "outputs": [],
   "source": [
    "def seed_everything(seed=334):\n",
    "    random.seed(seed)\n",
    "    os.environ['PYTHONHASHSEED'] = str(seed)\n",
    "    np.random.seed(seed)\n",
    "    torch.manual_seed(seed)\n",
    "    torch.cuda.manual_seed(seed)\n",
    "    torch.backends.cudnn.deterministic = True\n",
    "    \n",
    "seed_everything(seed=334)"
   ]
  },
  {
   "cell_type": "markdown",
   "metadata": {},
   "source": [
    "## Read data"
   ]
  },
  {
   "cell_type": "code",
   "execution_count": 8,
   "metadata": {},
   "outputs": [],
   "source": [
    "train = pd.read_csv(os.path.join(ROOT, INPUT, LISH_MOA, \"train_features.csv\"))\n",
    "test = pd.read_csv(os.path.join(ROOT, INPUT, LISH_MOA, \"test_features.csv\"))\n",
    "train_targets_scored = pd.read_csv(os.path.join(ROOT, INPUT, LISH_MOA, \"train_targets_scored.csv\"))\n",
    "train_targets_nonscored = pd.read_csv(os.path.join(ROOT, INPUT, LISH_MOA, \"train_targets_nonscored.csv\"))\n",
    "sub = pd.read_csv(os.path.join(ROOT, INPUT, LISH_MOA, \"sample_submission.csv\"))"
   ]
  },
  {
   "cell_type": "code",
   "execution_count": 10,
   "metadata": {},
   "outputs": [],
   "source": [
    "GENES = [col for col in train.columns if col.startswith('g-')]\n",
    "CELLS = [col for col in train.columns if col.startswith('c-')]"
   ]
  },
  {
   "cell_type": "code",
   "execution_count": 11,
   "metadata": {},
   "outputs": [
    {
     "data": {
      "text/plain": [
       "atp-sensitive_potassium_channel_antagonist      1\n",
       "erbb2_inhibitor                                 1\n",
       "diuretic                                        6\n",
       "autotaxin_inhibitor                             6\n",
       "protein_phosphatase_inhibitor                   6\n",
       "                                             ... \n",
       "serotonin_receptor_antagonist                 404\n",
       "dopamine_receptor_antagonist                  424\n",
       "cyclooxygenase_inhibitor                      435\n",
       "proteasome_inhibitor                          726\n",
       "nfkb_inhibitor                                832\n",
       "Length: 206, dtype: object"
      ]
     },
     "execution_count": 11,
     "metadata": {},
     "output_type": "execute_result"
    }
   ],
   "source": [
    "train_targets_scored.sum()[1:].sort_values()"
   ]
  },
  {
   "cell_type": "markdown",
   "metadata": {},
   "source": [
    "## PCA features + Existing features"
   ]
  },
  {
   "cell_type": "code",
   "execution_count": 25,
   "metadata": {},
   "outputs": [],
   "source": [
    "def make_pca_features(df_train: pd.DataFrame, df_test: pd.DataFrame, n_components: int, use_cols: list, gene_or_cell: str, cat_flg):\n",
    "    data = pd.concat([pd.DataFrame(df_train[use_cols]), pd.DataFrame(df_test[use_cols])])\n",
    "    data_pca = PCA(n_components=n_components, random_state=334).fit_transform(data[use_cols])\n",
    "\n",
    "    train_pca = data_pca[:df_train.shape[0]]\n",
    "    test_pca = data_pca[-df_test.shape[0]:]\n",
    "\n",
    "    train_pca = pd.DataFrame(train_pca, columns=[f'pca_'+gene_or_cell+'-{i}' for i in range(n_components)])\n",
    "    test_pca = pd.DataFrame(test_pca, columns=[f'pca_'+gene_or_cell+'-{i}' for i in range(n_components)])\n",
    "\n",
    "    ret_df_train = pd.concat([df_train, train_pca], axis=1)\n",
    "    ret_df_test = pd.concat([df_test, test_pca], axis=1)\n",
    "    return ret_df_train, ret_df_test"
   ]
  },
  {
   "cell_type": "code",
   "execution_count": null,
   "metadata": {},
   "outputs": [],
   "source": [
    "train, test = make_pca_features(train, test, N_COMP_GENES, GENES, 'G')"
   ]
  }
 ],
 "metadata": {
  "kernelspec": {
   "display_name": "Python 3",
   "language": "python",
   "name": "python3"
  },
  "language_info": {
   "codemirror_mode": {
    "name": "ipython",
    "version": 3
   },
   "file_extension": ".py",
   "mimetype": "text/x-python",
   "name": "python",
   "nbconvert_exporter": "python",
   "pygments_lexer": "ipython3",
   "version": "3.8.3"
  }
 },
 "nbformat": 4,
 "nbformat_minor": 4
}
